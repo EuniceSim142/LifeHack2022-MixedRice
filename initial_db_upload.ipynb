{
 "cells": [
  {
   "cell_type": "markdown",
   "metadata": {},
   "source": [
    "# Initial Upload of Data"
   ]
  },
  {
   "cell_type": "code",
   "execution_count": 1,
   "metadata": {},
   "outputs": [],
   "source": [
    "import pandas as pd\n",
    "import numpy as np\n",
    "import os"
   ]
  },
  {
   "cell_type": "code",
   "execution_count": 2,
   "metadata": {},
   "outputs": [],
   "source": [
    "from dotenv import load_dotenv\n",
    "dotenv = load_dotenv()\n",
    "POSTGRESQL_CONNECTION_STRING = os.getenv(\"POSTGRESQL_CONNECTION_STRING\")"
   ]
  },
  {
   "cell_type": "code",
   "execution_count": 3,
   "metadata": {},
   "outputs": [],
   "source": [
    "from database import (\n",
    "    Base,\n",
    "    session_engine_from_connection_string,\n",
    "    User,\n",
    "    Item,\n",
    "    Bin,\n",
    "    convert_df_to_lst_of_table_objects\n",
    ")"
   ]
  },
  {
   "cell_type": "markdown",
   "metadata": {},
   "source": [
    "## Create DB Tables"
   ]
  },
  {
   "cell_type": "code",
   "execution_count": 4,
   "metadata": {},
   "outputs": [],
   "source": [
    "# create session and engine\n",
    "session, engine = session_engine_from_connection_string(POSTGRESQL_CONNECTION_STRING)\n",
    "\n",
    "conn = engine.connect()\n",
    "\n",
    "# tables to be created\n",
    "table_objects = [\n",
    "    User.__table__,\n",
    "    Item.__table__,\n",
    "    Bin.__table__,\n",
    "]\n",
    "\n",
    "# Drop All Tables\n",
    "Base.metadata.drop_all(engine, table_objects)\n",
    "\n",
    "# Create All Tables\n",
    "Base.metadata.create_all(engine, table_objects)\n",
    "# session.close()"
   ]
  },
  {
   "cell_type": "markdown",
   "metadata": {},
   "source": [
    "## Load Data into Items"
   ]
  },
  {
   "cell_type": "code",
   "execution_count": 5,
   "metadata": {},
   "outputs": [],
   "source": [
    "data_folder = os.path.join(os.getcwd(), \"data\")\n",
    "file_name = \"items.csv\"\n",
    "item_file_path = os.path.join(data_folder, file_name)\n",
    "df_item = pd.read_csv(item_file_path)"
   ]
  },
  {
   "cell_type": "code",
   "execution_count": 6,
   "metadata": {},
   "outputs": [],
   "source": [
    "df_item.rename(columns={\n",
    "    \"name\": \"item_name\",\n",
    "    \"disposal\": \"disposal_instruction\",\n",
    "    \"imageUrl\": \"image_url\",\n",
    "    \"instruction\": \"additional_instruction\",\n",
    "    \"recyclable\": \"is_recyclable\"\n",
    "}, inplace=True)\n",
    "\n",
    "df_item.drop(columns=[\"similarItem\"], inplace=True)\n",
    "df_item[\"num_browsed\"] = 0"
   ]
  },
  {
   "cell_type": "code",
   "execution_count": 7,
   "metadata": {},
   "outputs": [],
   "source": [
    "item_obj = convert_df_to_lst_of_table_objects(df_item, Item)\n",
    "session.add_all(item_obj)\n",
    "session.commit()"
   ]
  }
 ],
 "metadata": {
  "interpreter": {
   "hash": "cc9db7f64f1de29103801b07087e7eb90f2913e5fc6dbf08021a52aa5a427a96"
  },
  "kernelspec": {
   "display_name": "Python 3.8.8 ('env': venv)",
   "language": "python",
   "name": "python3"
  },
  "language_info": {
   "codemirror_mode": {
    "name": "ipython",
    "version": 3
   },
   "file_extension": ".py",
   "mimetype": "text/x-python",
   "name": "python",
   "nbconvert_exporter": "python",
   "pygments_lexer": "ipython3",
   "version": "3.8.8"
  },
  "orig_nbformat": 4
 },
 "nbformat": 4,
 "nbformat_minor": 2
}
